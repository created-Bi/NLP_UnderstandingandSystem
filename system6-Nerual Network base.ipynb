{
 "cells": [
  {
   "cell_type": "markdown",
   "metadata": {},
   "source": [
    "# 神经网络基础"
   ]
  },
  {
   "cell_type": "markdown",
   "metadata": {},
   "source": [
    "## 1 人工神经网络：\n",
    "     是指一系列受生物学和神经科学启发的数学模型。这些模型主要是通过对人脑的神经元网络进行抽象，构建人工神经元，并按照一定拓扑结构来构建人工神经元之间的连接，来模拟生物神经网络。"
   ]
  },
  {
   "cell_type": "markdown",
   "metadata": {},
   "source": [
    "## 2 神经元\n",
    "    神经元，是构成神经网络的基本单元，其主要是模拟生物神经元的结构和特性，接收一组输入信号并产生输出。"
   ]
  },
  {
   "cell_type": "markdown",
   "metadata": {},
   "source": [
    "### 2.1 神经元模型：\n",
    "   假设一个神经元接收$D$个输入 $x_1, x_2, ..., x_D$, 令向量 $X$（等于前面那个）, 来表示这组输入，并用净输入$ z∈R $表示一个神经元所获得的输入信号x的加权和。"
   ]
  },
  {
   "cell_type": "markdown",
   "metadata": {},
   "source": [
    "$$ z=\\sum^D_{d=1}{w_dx_d + b} $$\n",
    "$$ = w^Tx+b $$"
   ]
  },
  {
   "cell_type": "markdown",
   "metadata": {},
   "source": [
    "$ 其中w=[w_1; w_2; ... w_D ] 是D维的权重向量$"
   ]
  },
  {
   "cell_type": "markdown",
   "metadata": {},
   "source": [
    "### 2.2 激活函数"
   ]
  },
  {
   "cell_type": "markdown",
   "metadata": {},
   "source": [
    "$$ a = f(z) $$"
   ]
  },
  {
   "cell_type": "markdown",
   "metadata": {},
   "source": [
    "# 思考题"
   ]
  },
  {
   "cell_type": "markdown",
   "metadata": {},
   "source": [
    "## 1. 面试题：给定神经网络结构，计算总参数量"
   ]
  },
  {
   "cell_type": "markdown",
   "metadata": {},
   "source": [
    "### Input X：（$ M×N $） ，Output Y：（$ M，$） "
   ]
  },
  {
   "cell_type": "markdown",
   "metadata": {},
   "source": [
    "### 线性层1（$ W_{N×N_1} $） ——> 激活层（？） ——> 线性层2（$ W_{N_1×N} $） ——> 损失（?） "
   ]
  },
  {
   "cell_type": "markdown",
   "metadata": {},
   "source": [
    "Parameters: $ M * N_1 $ + $ N_1 * N $    "
   ]
  },
  {
   "cell_type": "markdown",
   "metadata": {},
   "source": [
    "## 2. 面试题：线性神经网络为什么会出现梯度消失现象？\n",
    "### Hint：结合反向传播的链式法则来思考"
   ]
  },
  {
   "cell_type": "markdown",
   "metadata": {},
   "source": [
    "Ans:\n",
    "\n",
    "    一些激活函数的导函数值在[0,1]间，所以如果连续使用此类激活函数的话，反向传播的时候会乘很多小于1的数值项，因此导致梯度无法很好传播"
   ]
  },
  {
   "cell_type": "markdown",
   "metadata": {},
   "source": [
    "# 编程题：基于Numpy手工搭建神经网络 "
   ]
  },
  {
   "cell_type": "code",
   "execution_count": 1,
   "metadata": {},
   "outputs": [],
   "source": [
    "import numpy as np\n",
    "import matplotlib.pyplot as plt\n",
    "from collections import defaultdict\n",
    "%matplotlib inline"
   ]
  },
  {
   "cell_type": "markdown",
   "metadata": {},
   "source": [
    "##  1. 神经网络模块"
   ]
  },
  {
   "cell_type": "markdown",
   "metadata": {},
   "source": [
    "### 1.1 BaseNode"
   ]
  },
  {
   "cell_type": "code",
   "execution_count": 2,
   "metadata": {},
   "outputs": [],
   "source": [
    "class BaseNode(object):\n",
    "    def __init__(self, *args, **kwargs):\n",
    "        super(BaseNode, self).__init__()\n",
    "        self.params = {}\n",
    "        self.grads = {}\n",
    "        self.results = {}\n",
    "        self.name = None\n",
    "        self.inputs = []\n",
    "        self.outputs = []\n",
    "        self.is_trainable = True\n",
    "        for input_ in self.inputs:\n",
    "            input_.outputs.append(self)\n",
    "        \n",
    "    def forward(self):\n",
    "        raise NotImplementedError\n",
    "    def backward(self):\n",
    "        raise NotImplementedError\n",
    "    def __repr__(self):\n",
    "        return self.name"
   ]
  },
  {
   "cell_type": "markdown",
   "metadata": {},
   "source": [
    "### 1.2 LinearNode "
   ]
  },
  {
   "cell_type": "code",
   "execution_count": 69,
   "metadata": {},
   "outputs": [],
   "source": [
    "class Linear(BaseNode):\n",
    "    def __init__(self, input_dim, output_dim, name, bias=True):\n",
    "        super(Linear, self).__init__()\n",
    "        self.name = name\n",
    "        self.bias = bias\n",
    "        self.W = np.random.randn(input_dim, output_dim) / np.sqrt(input_dim)\n",
    "        self.params['w'] = self.W\n",
    "        if bias:\n",
    "            self.b = np.zeros([1, output_dim])\n",
    "            self.params['b'] = self.b\n",
    "    \n",
    "    def forward(self, x):\n",
    "        # check type\n",
    "        assert isinstance(x, np.ndarray)\n",
    "        # x: batch_size, input_dim\n",
    "        batch_size = x.shape[0]\n",
    "        #print(\"linear batch_size\", batch_size)\n",
    "        y = np.dot(x, self.params['w'])\n",
    "        #print(\"linear y_hat: \", y.shape)\n",
    "        if self.bias and batch_size > 1:\n",
    "            y += np.tile(self.params['b'], (batch_size ,1))\n",
    "        self.results['x'] = x\n",
    "        self.results['y'] = y\n",
    "        return y\n",
    "    \n",
    "    def backward(self, pre_grad):\n",
    "        # check type\n",
    "        assert isinstance(pre_grad, np.ndarray)\n",
    "        # gradient of this layer\n",
    "        x = self.results['x']\n",
    "        batch_size, input_dim, output_dim = x.shape[0], x.shape[1], pre_grad.shape[1]\n",
    "        # gradient of w and b in current layer \n",
    "        #print(\"x: {}, pre_grad: {}\".format(x.shape, pre_grad.shape))\n",
    "        self.grads['w'] = np.dot(x.T, pre_grad) # input_dim, output_dim\n",
    "        if self.bias: self.grads['b'] = np.sum(pre_grad, axis=0, keepdims=False)# output_dim\n",
    "        # grad: batch_size, output_dim\n",
    "        grad_to_input = np.dot(pre_grad, self.W.T)\n",
    "        return grad_to_input"
   ]
  },
  {
   "cell_type": "markdown",
   "metadata": {},
   "source": [
    "### 1.3 ActivatedNode "
   ]
  },
  {
   "cell_type": "markdown",
   "metadata": {},
   "source": [
    "#### 1.3.1 Sigmoid "
   ]
  },
  {
   "cell_type": "code",
   "execution_count": 4,
   "metadata": {},
   "outputs": [],
   "source": [
    "class Sigmoid(BaseNode):\n",
    "    def __init__(self):\n",
    "        super(Sigmoid, self).__init__()\n",
    "        \n",
    "    def forward(self, x):\n",
    "        # x: batch_size, output_dim\n",
    "        sigmoid_value = 1 / (1 + np.exp(-1 * x))\n",
    "        self.results['sigmoid'] = sigmoid_value\n",
    "        return sigmoid_value\n",
    "    \n",
    "    def backward(self, pre_grad):\n",
    "        sigmoid_value = self.results['sigmoid']\n",
    "        grad_input = pre_grad * sigmoid_value * (1 - sigmoid_value)\n",
    "        return grad_input"
   ]
  },
  {
   "cell_type": "markdown",
   "metadata": {},
   "source": [
    "#### 1.3.2 Tanh "
   ]
  },
  {
   "cell_type": "code",
   "execution_count": 5,
   "metadata": {},
   "outputs": [],
   "source": [
    "class Tanh(BaseNode):\n",
    "    def __init__(self):\n",
    "        super(Tanh, self).__init__()\n",
    "        \n",
    "    def forward(self, x):\n",
    "        # x: batch_size, output_dim\n",
    "        evalue = np.exp(x)\n",
    "        e_neg_value = np.exp(-1 * x)\n",
    "        tanh_value = (evalue - e_neg_value) / (evalue + e_neg_value)\n",
    "        self.results['tanh'] = tanh_value\n",
    "        return tanh_value\n",
    "    \n",
    "    def backward(self, pre_grad):\n",
    "        tanh_value = self.results['Tanh']\n",
    "        grad_input = pre_grad * (1 - tanh_value ** 2)\n",
    "        return grad_input"
   ]
  },
  {
   "cell_type": "markdown",
   "metadata": {},
   "source": [
    "#### 1.3.3 ReLU"
   ]
  },
  {
   "cell_type": "code",
   "execution_count": 6,
   "metadata": {},
   "outputs": [],
   "source": [
    "class ReLU(BaseNode):\n",
    "    def __init__(self):\n",
    "        super(ReLU, self).__init__()\n",
    "        \n",
    "    def forward(self, x):\n",
    "        # x: batch_size, output_dim\n",
    "        mask = (x > 0).astype(float)\n",
    "        relu_value = mask * x\n",
    "        self.results['relu'] = mask\n",
    "        return relu_value\n",
    "    \n",
    "    def backward(self, pre_grad):\n",
    "        grad_input = pre_grad * self.results['relu']\n",
    "        return grad_input"
   ]
  },
  {
   "cell_type": "markdown",
   "metadata": {},
   "source": [
    "#### 1.3.4 Softmax"
   ]
  },
  {
   "cell_type": "code",
   "execution_count": 7,
   "metadata": {},
   "outputs": [],
   "source": [
    "class Softmax(BaseNode):\n",
    "    def __init__(self):\n",
    "        super(Softmax, self).__init__()\n",
    "        \n",
    "    def forward(self, x):\n",
    "        # x: batch_size, output_dim\n",
    "        sum_of_x = np.sum(np.exp(x), axis=1) # batch_size\n",
    "        softmax_value = x / sum_of_x\n",
    "        self.results['softmax'] = softmax_value\n",
    "        return softmax_value\n",
    "    \n",
    "    def backward(self, pre_grad):\n",
    "        softmax_value = self.results['softmax']\n",
    "        grad_input = grad * softmax_value\n",
    "        return grad_input"
   ]
  },
  {
   "cell_type": "markdown",
   "metadata": {},
   "source": [
    "### 1.4 LossNode "
   ]
  },
  {
   "cell_type": "markdown",
   "metadata": {},
   "source": [
    "#### 1.4.1 L2Loss"
   ]
  },
  {
   "cell_type": "code",
   "execution_count": 8,
   "metadata": {},
   "outputs": [],
   "source": [
    "class L2Loss(BaseNode):\n",
    "    def __init__(self):\n",
    "        super(L2Loss, self).__init__()\n",
    "    \n",
    "    def forward(self, x, ground_truth):\n",
    "        # x: batch_size, dim\n",
    "        diff = x - ground_truth\n",
    "        self.results['diff'] = diff\n",
    "        return np.sum(diff ** 2)\n",
    "    \n",
    "    def backward(self):\n",
    "        grad_input = 2 * self.results['diff']\n",
    "        return grad_input"
   ]
  },
  {
   "cell_type": "markdown",
   "metadata": {},
   "source": [
    "#### 1.4.2 Binary Cross Entropy Loss"
   ]
  },
  {
   "cell_type": "code",
   "execution_count": 9,
   "metadata": {},
   "outputs": [],
   "source": [
    "class BinaryCrossEntropyLoss(BaseNode):\n",
    "    def __init__(self):\n",
    "        super(BinaryCrossEntropyLoss, self).__init__()\n",
    "    \n",
    "    def forward(self, x, label):\n",
    "        # x: batch_size, dim\n",
    "        batch_size = x.shape[0]\n",
    "        blabel = label.reshape([batch_size, 1])\n",
    "        bce = -(blabel * np.log(x) + (1 - blabel) * log(1 - x))\n",
    "        self.results['blabel'] = blabel\n",
    "        self.results['x'] = x\n",
    "        return np.sum(bce)\n",
    "    \n",
    "    def backward(self):\n",
    "        grad_input = self.results['blabel']\n",
    "        x = self.results['x']\n",
    "        grad_input = -(blabel / x - (1 - blabel) / (1 - x))\n",
    "        return grad_input"
   ]
  },
  {
   "cell_type": "markdown",
   "metadata": {},
   "source": [
    "#### 1.4.3 Cross Entropy"
   ]
  },
  {
   "cell_type": "code",
   "execution_count": 10,
   "metadata": {},
   "outputs": [],
   "source": [
    "class CrossEntropy(BaseNode):\n",
    "    def __init__(self):\n",
    "        super(CrossEntropy, self).__init__()\n",
    "    \n",
    "    def forward(self, x, ground_truth):\n",
    "        # x: batch_size, dim\n",
    "        mask = (x * ground_truth) > 0\n",
    "        res = x * mask\n",
    "        self.results['x'] = x\n",
    "        self.results['crossentropy'] = mask\n",
    "        return np.sum(res, 1)\n",
    "    \n",
    "    def backward(self):\n",
    "        batch_size = self.results['x'].shape[0]\n",
    "        grad_input = np.zeros([batch_size, 1])\n",
    "        for i, x in enumerate(self.results['crossentropy']):\n",
    "            if x: grad_input[i] = self.results['x'][i] - 1\n",
    "            else: grad_input[i] = self.results['x'][i]\n",
    "        return grad_input"
   ]
  },
  {
   "cell_type": "markdown",
   "metadata": {},
   "source": [
    "### 1.4.4 数据导入"
   ]
  },
  {
   "cell_type": "code",
   "execution_count": 11,
   "metadata": {},
   "outputs": [],
   "source": [
    "from sklearn.datasets import load_boston"
   ]
  },
  {
   "cell_type": "code",
   "execution_count": 12,
   "metadata": {},
   "outputs": [],
   "source": [
    "X = load_boston()['data']\n",
    "y_ = load_boston()['target']"
   ]
  },
  {
   "cell_type": "code",
   "execution_count": 13,
   "metadata": {},
   "outputs": [
    {
     "data": {
      "text/plain": [
       "(506, 13)"
      ]
     },
     "execution_count": 13,
     "metadata": {},
     "output_type": "execute_result"
    }
   ],
   "source": [
    "X.shape"
   ]
  },
  {
   "cell_type": "code",
   "execution_count": 67,
   "metadata": {},
   "outputs": [],
   "source": [
    "class BostonData(BaseNode):\n",
    "    def __init__(self, input_dim, hidden_dim, output_dim):\n",
    "        super(BostonData, self).__init__()\n",
    "        self.linear1 = Linear(input_dim, hidden_dim, name='linear1')\n",
    "        self.relu = ReLU()\n",
    "        self.linear2 = Linear(hidden_dim, output_dim, 'linear2')\n",
    "        #self.sigmoid = Sigmoid()\n",
    "        \n",
    "    def forward(self, x):\n",
    "        x = self.linear1.forward(x)\n",
    "        #print('1', x.shape)\n",
    "        x = self.relu.forward(x)\n",
    "        #print('2', x.shape)\n",
    "        x = self.linear2.forward(x)\n",
    "        #print('3', x.shape)\n",
    "        return x\n",
    "        \n",
    "    def backward(self, loss):\n",
    "        grad = self.linear2.backward(loss)\n",
    "        grad = self.relu.backward(grad)\n",
    "        grad = self.linear1.backward(grad)\n",
    "    \n",
    "    def update(self, learning_rate):\n",
    "#         print(type(self.linear2.grads))\n",
    "        self.linear2.params['w'] += (-1) * learning_rate * self.linear2.grads['w']\n",
    "        if self.linear2.bias: self.linear2.params['b'] += (-1) * learning_rate\n",
    "        self.linear1.params['w'] += (-1) * learning_rate * self.linear1.grads['w']\n",
    "        if self.linear2.bias: self.linear1.params['b'] += (-1) * learning_rate"
   ]
  },
  {
   "cell_type": "code",
   "execution_count": 15,
   "metadata": {},
   "outputs": [],
   "source": [
    "input_dim = 13\n",
    "hidden_dim = 20\n",
    "output_dim = 1"
   ]
  },
  {
   "cell_type": "code",
   "execution_count": 16,
   "metadata": {},
   "outputs": [],
   "source": [
    "from tqdm import tqdm_notebook"
   ]
  },
  {
   "cell_type": "code",
   "execution_count": 70,
   "metadata": {},
   "outputs": [
    {
     "name": "stderr",
     "output_type": "stream",
     "text": [
      "/opt/conda/lib/python3.7/site-packages/ipykernel_launcher.py:10: TqdmDeprecationWarning: This function will be removed in tqdm==5.0.0\n",
      "Please use `tqdm.notebook.tqdm` instead of `tqdm.tqdm_notebook`\n",
      "  # Remove the CWD from sys.path while we load stuff.\n"
     ]
    },
    {
     "data": {
      "application/vnd.jupyter.widget-view+json": {
       "model_id": "333f81a9bec04010bde4ef691e3c0352",
       "version_major": 2,
       "version_minor": 0
      },
      "text/plain": [
       "HBox(children=(FloatProgress(value=0.0, max=4000.0), HTML(value='')))"
      ]
     },
     "metadata": {},
     "output_type": "display_data"
    },
    {
     "name": "stdout",
     "output_type": "stream",
     "text": [
      "The 0th epoch, loss:2628.9749039869967\n",
      "The 1th epoch, loss:113.64704979615338\n",
      "The 2th epoch, loss:108.0415478725296\n",
      "The 5th epoch, loss:105.3842555900598\n",
      "The 6th epoch, loss:104.91968928064212\n",
      "The 8th epoch, loss:82.09414645615095\n",
      "The 10th epoch, loss:72.73063796861447\n",
      "The 12th epoch, loss:55.77339101794017\n",
      "The 67th epoch, loss:51.13098250487756\n",
      "The 138th epoch, loss:49.06906214268378\n",
      "The 175th epoch, loss:44.65652351201641\n",
      "The 289th epoch, loss:41.37621045756401\n",
      "The 667th epoch, loss:34.16499700366162\n",
      "The 1927th epoch, loss:29.56364249272107\n",
      "The 3717th epoch, loss:28.295813330297587\n",
      "The 3776th epoch, loss:28.0474365451324\n",
      "\n"
     ]
    }
   ],
   "source": [
    "model = BostonData(input_dim, hidden_dim, output_dim)\n",
    "criterion = L2Loss()\n",
    "\n",
    "learning_rate = 0.00001\n",
    "epoch = 4000\n",
    "batch_size = 128\n",
    "losses = []\n",
    "min_loss = np.float('inf')\n",
    "\n",
    "for e in tqdm_notebook(range(epoch)):\n",
    "    loss = 0\n",
    "    \n",
    "    for b in range(batch_size):\n",
    "        index = np.random.choice(range(len(X)))\n",
    "        input_vetor = X[index].reshape(1, input_dim)\n",
    "#         print(input_vetor.shape) \n",
    "        y_hat = model.forward(input_vetor)\n",
    "        output_vector = y_[index].reshape(1, output_dim)\n",
    "#         print(\"y_hat shape: {}, y_ shape: {}\".format(y_hat.shape, output_vector.shape))\n",
    "        cost = criterion.forward(y_hat, output_vector)\n",
    "        cost_grad = criterion.backward()\n",
    "        model.backward(cost_grad)\n",
    "        model.update(learning_rate)\n",
    "        \n",
    "        loss += cost\n",
    "    ave_loss = loss / batch_size\n",
    "    if min_loss > ave_loss:\n",
    "        min_loss = ave_loss\n",
    "        print(\"The {}th epoch, loss:{}\".format(e, ave_loss))\n",
    "    losses.append(ave_loss)"
   ]
  },
  {
   "cell_type": "code",
   "execution_count": 71,
   "metadata": {},
   "outputs": [
    {
     "data": {
      "text/plain": [
       "[<matplotlib.lines.Line2D at 0x7f82ccb66ad0>]"
      ]
     },
     "execution_count": 71,
     "metadata": {},
     "output_type": "execute_result"
    },
    {
     "data": {
      "image/png": "[encoded data removed]",
      "text/plain": [
       "<Figure size 432x288 with 1 Axes>"
      ]
     },
     "metadata": {
      "needs_background": "light"
     },
     "output_type": "display_data"
    }
   ],
   "source": [
    "plt.plot(losses)"
   ]
  },
  {
   "cell_type": "markdown",
   "metadata": {},
   "source": [
    "## 2. dropout机制 "
   ]
  },
  {
   "cell_type": "markdown",
   "metadata": {},
   "source": [
    "### Ans：\n",
    "\n",
    "    1. Dropout机制用于丢弃神经网络结点中的一部分，使其不发生作用；\n",
    "    2. 伪代码：\n",
    "        parameters is the parameters in the layer\n",
    "        random_index = random.random(parameters.size())\n",
    "        for ind in random_index:\n",
    "          y[ind] = 0"
   ]
  },
  {
   "cell_type": "markdown",
   "metadata": {},
   "source": [
    "## 3. ELU层 "
   ]
  },
  {
   "cell_type": "code",
   "execution_count": 72,
   "metadata": {},
   "outputs": [],
   "source": [
    "class ELU(BaseNode):\n",
    "    def __init__(self):\n",
    "        super(ELU, self).__init__()\n",
    "        \n",
    "    def forward(self, x):\n",
    "        # x: batch_size, output_dim\n",
    "        mask = (x > 0).astype(float)\n",
    "        mask_2 = (x <= 0).astype(float)\n",
    "        elu_value = mask * x + mask_2 * (np.exp(x) - 1)\n",
    "        self.results['elu'] = mask + mask_2 * np.exp(x)\n",
    "        return elu_value\n",
    "    \n",
    "    def backward(self, pre_grad):\n",
    "        grad_input = pre_grad * self.results['elu']\n",
    "        return grad_input"
   ]
  },
  {
   "cell_type": "markdown",
   "metadata": {},
   "source": [
    "# 思考题：如何实现自动求导 "
   ]
  },
  {
   "cell_type": "markdown",
   "metadata": {},
   "source": [
    "### Ans：\n",
    "    1. 前向传播时，把每个node的输入结点的输出结点设置为自身，所以最后会形成一张计算图；\n",
    "    2. 在计算图上实现拓扑排序，就可以得到前向传播的方向，逆序便得到反向传播方向。"
   ]
  }
 ],
 "metadata": {
  "kernelspec": {
   "display_name": "Python 3",
   "language": "python",
   "name": "python3"
  },
  "language_info": {
   "codemirror_mode": {
    "name": "ipython",
    "version": 3
   },
   "file_extension": ".py",
   "mimetype": "text/x-python",
   "name": "python",
   "nbconvert_exporter": "python",
   "pygments_lexer": "ipython3",
   "version": "3.7.6"
  }
 },
 "nbformat": 4,
 "nbformat_minor": 4
}
